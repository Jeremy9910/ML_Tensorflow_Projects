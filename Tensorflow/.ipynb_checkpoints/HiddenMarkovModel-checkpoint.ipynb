{
 "cells": [
  {
   "cell_type": "code",
   "execution_count": 13,
   "id": "536b8d49",
   "metadata": {},
   "outputs": [],
   "source": [
    "import tensorflow as tf\n",
    "import tensorflow_probability as tfp"
   ]
  },
  {
   "cell_type": "code",
   "execution_count": 14,
   "id": "73284006",
   "metadata": {},
   "outputs": [],
   "source": [
    "\n",
    "initial_distribution = tfp.distributions.Categorical(probs=[0.3, 0.7])  \n",
    "transition_distribution = tfp.distributions.Categorical(probs=[[0.6, 0.4],\n",
    "                                                 [0.4, 0.6]])  \n",
    "observation_distribution = tfp.distributions.Normal(loc=[0., 30.], scale=[2., 20.])  \n",
    "\n"
   ]
  },
  {
   "cell_type": "code",
   "execution_count": 15,
   "id": "518e5c8f",
   "metadata": {},
   "outputs": [],
   "source": [
    "model = tfp.distributions.HiddenMarkovModel(\n",
    "    initial_distribution=initial_distribution,\n",
    "    transition_distribution=transition_distribution,\n",
    "    observation_distribution=observation_distribution,\n",
    "    num_steps=7)"
   ]
  },
  {
   "cell_type": "code",
   "execution_count": 16,
   "id": "be800daf",
   "metadata": {},
   "outputs": [
    {
     "name": "stdout",
     "output_type": "stream",
     "text": [
      "[21.       16.2      15.239999 15.048    15.009603 15.001923 15.000388]\n"
     ]
    }
   ],
   "source": [
    "mean = model.mean()\n",
    "print(mean.numpy())"
   ]
  }
 ],
 "metadata": {
  "kernelspec": {
   "display_name": "Python 3 (ipykernel)",
   "language": "python",
   "name": "python3"
  },
  "language_info": {
   "codemirror_mode": {
    "name": "ipython",
    "version": 3
   },
   "file_extension": ".py",
   "mimetype": "text/x-python",
   "name": "python",
   "nbconvert_exporter": "python",
   "pygments_lexer": "ipython3",
   "version": "3.7.6"
  }
 },
 "nbformat": 4,
 "nbformat_minor": 5
}
